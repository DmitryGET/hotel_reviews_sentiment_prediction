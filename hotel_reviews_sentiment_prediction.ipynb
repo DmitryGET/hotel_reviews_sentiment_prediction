{
  "nbformat": 4,
  "nbformat_minor": 0,
  "metadata": {
    "colab": {
      "name": "hotel_reviews_sentiment_prediction.ipynb",
      "provenance": [],
      "authorship_tag": "ABX9TyPRvM3ug84whCfGN1FzB4Hh"
    },
    "kernelspec": {
      "name": "python3",
      "display_name": "Python 3"
    },
    "language_info": {
      "name": "python"
    },
    "accelerator": "GPU"
  },
  "cells": [
    {
      "cell_type": "markdown",
      "metadata": {
        "id": "M8mbCKzv9v4g"
      },
      "source": [
        "# Load the Data"
      ]
    },
    {
      "cell_type": "code",
      "metadata": {
        "id": "Rch8dkJ--tUe"
      },
      "source": [
        "import pandas as pd\n",
        "import numpy as np\n",
        "import matplotlib.pyplot as plt"
      ],
      "execution_count": null,
      "outputs": []
    },
    {
      "cell_type": "code",
      "metadata": {
        "colab": {
          "base_uri": "https://localhost:8080/"
        },
        "id": "t9HRBu1z9bRO",
        "outputId": "ed5cadbf-7a3a-4018-8380-22cd8b33ba5e"
      },
      "source": [
        "from google.colab import drive\n",
        "drive.mount('/content/drive')"
      ],
      "execution_count": null,
      "outputs": [
        {
          "output_type": "stream",
          "name": "stdout",
          "text": [
            "Drive already mounted at /content/drive; to attempt to forcibly remount, call drive.mount(\"/content/drive\", force_remount=True).\n"
          ]
        }
      ]
    },
    {
      "cell_type": "code",
      "metadata": {
        "colab": {
          "base_uri": "https://localhost:8080/",
          "height": 204
        },
        "id": "tJXu2BZQ-VEB",
        "outputId": "69802fbf-3d8c-481d-9749-714e8c8d6693"
      },
      "source": [
        "fn = '/content/drive/MyDrive/DataSets/tripadvisor_hotel_reviews.csv'\n",
        "df = pd.read_csv(fn)\n",
        "df.head(5)"
      ],
      "execution_count": null,
      "outputs": [
        {
          "output_type": "execute_result",
          "data": {
            "text/html": [
              "<div>\n",
              "<style scoped>\n",
              "    .dataframe tbody tr th:only-of-type {\n",
              "        vertical-align: middle;\n",
              "    }\n",
              "\n",
              "    .dataframe tbody tr th {\n",
              "        vertical-align: top;\n",
              "    }\n",
              "\n",
              "    .dataframe thead th {\n",
              "        text-align: right;\n",
              "    }\n",
              "</style>\n",
              "<table border=\"1\" class=\"dataframe\">\n",
              "  <thead>\n",
              "    <tr style=\"text-align: right;\">\n",
              "      <th></th>\n",
              "      <th>Review</th>\n",
              "      <th>Rating</th>\n",
              "    </tr>\n",
              "  </thead>\n",
              "  <tbody>\n",
              "    <tr>\n",
              "      <th>0</th>\n",
              "      <td>nice hotel expensive parking got good deal sta...</td>\n",
              "      <td>4</td>\n",
              "    </tr>\n",
              "    <tr>\n",
              "      <th>1</th>\n",
              "      <td>ok nothing special charge diamond member hilto...</td>\n",
              "      <td>2</td>\n",
              "    </tr>\n",
              "    <tr>\n",
              "      <th>2</th>\n",
              "      <td>nice rooms not 4* experience hotel monaco seat...</td>\n",
              "      <td>3</td>\n",
              "    </tr>\n",
              "    <tr>\n",
              "      <th>3</th>\n",
              "      <td>unique, great stay, wonderful time hotel monac...</td>\n",
              "      <td>5</td>\n",
              "    </tr>\n",
              "    <tr>\n",
              "      <th>4</th>\n",
              "      <td>great stay great stay, went seahawk game aweso...</td>\n",
              "      <td>5</td>\n",
              "    </tr>\n",
              "  </tbody>\n",
              "</table>\n",
              "</div>"
            ],
            "text/plain": [
              "                                              Review  Rating\n",
              "0  nice hotel expensive parking got good deal sta...       4\n",
              "1  ok nothing special charge diamond member hilto...       2\n",
              "2  nice rooms not 4* experience hotel monaco seat...       3\n",
              "3  unique, great stay, wonderful time hotel monac...       5\n",
              "4  great stay great stay, went seahawk game aweso...       5"
            ]
          },
          "metadata": {},
          "execution_count": 3
        }
      ]
    },
    {
      "cell_type": "code",
      "metadata": {
        "colab": {
          "base_uri": "https://localhost:8080/"
        },
        "id": "AX3UZTic-1pt",
        "outputId": "44092152-1681-4195-b66f-964028bca620"
      },
      "source": [
        "df.info()"
      ],
      "execution_count": null,
      "outputs": [
        {
          "output_type": "stream",
          "name": "stdout",
          "text": [
            "<class 'pandas.core.frame.DataFrame'>\n",
            "RangeIndex: 20491 entries, 0 to 20490\n",
            "Data columns (total 2 columns):\n",
            " #   Column  Non-Null Count  Dtype \n",
            "---  ------  --------------  ----- \n",
            " 0   Review  20491 non-null  object\n",
            " 1   Rating  20491 non-null  int64 \n",
            "dtypes: int64(1), object(1)\n",
            "memory usage: 320.3+ KB\n"
          ]
        }
      ]
    },
    {
      "cell_type": "markdown",
      "metadata": {
        "id": "xD7I-chdG9s4"
      },
      "source": [
        "# Preprocessing the Data"
      ]
    },
    {
      "cell_type": "code",
      "metadata": {
        "colab": {
          "base_uri": "https://localhost:8080/",
          "height": 281
        },
        "id": "R1LihMi__d_G",
        "outputId": "5ff5fc9a-a4e4-4d55-ee61-f400484de8ad"
      },
      "source": [
        "plot = df['Rating'].value_counts()\n",
        "x, y = plot.index[0:], plot[0:]\n",
        "\n",
        "fig, ax = plt.subplots()\n",
        "ax.bar(x, y)\n",
        "ax.set(title='Rating of reviews')\n",
        "fig.set_figwidth(8)\n",
        "plt.show()"
      ],
      "execution_count": null,
      "outputs": [
        {
          "output_type": "display_data",
          "data": {
            "image/png": "[encoded data removed]",
            "text/plain": [
              "<Figure size 576x288 with 1 Axes>"
            ]
          },
          "metadata": {
            "needs_background": "light"
          }
        }
      ]
    },
    {
      "cell_type": "code",
      "metadata": {
        "id": "-FviDIRtA8SN"
      },
      "source": [
        "df = df[df['Rating']!=3]"
      ],
      "execution_count": null,
      "outputs": []
    },
    {
      "cell_type": "code",
      "metadata": {
        "id": "qthwLRxjDE0x"
      },
      "source": [
        "df['Sentiment'] = np.where(df.Rating > 3, 1, 0)"
      ],
      "execution_count": null,
      "outputs": []
    },
    {
      "cell_type": "code",
      "metadata": {
        "colab": {
          "base_uri": "https://localhost:8080/",
          "height": 281
        },
        "id": "svb-FwqdEMXq",
        "outputId": "9cb57478-1d66-4f49-d75a-d8bce6d224e4"
      },
      "source": [
        "plot = df['Sentiment'].value_counts()\n",
        "x, y = plot.index[0:], plot[0:]\n",
        "\n",
        "fig, ax = plt.subplots()\n",
        "ax.bar(x, y)\n",
        "ax.set(title='Rating of reviews')\n",
        "fig.set_figwidth(2)\n",
        "plt.show()"
      ],
      "execution_count": null,
      "outputs": [
        {
          "output_type": "display_data",
          "data": {
            "image/png": "[encoded data removed]",
            "text/plain": [
              "<Figure size 144x288 with 1 Axes>"
            ]
          },
          "metadata": {
            "needs_background": "light"
          }
        }
      ]
    },
    {
      "cell_type": "code",
      "metadata": {
        "id": "treM9VH4IP-K"
      },
      "source": [
        "X = df['Review'].copy()\n",
        "y = df['Sentiment'].copy()"
      ],
      "execution_count": null,
      "outputs": []
    },
    {
      "cell_type": "code",
      "metadata": {
        "id": "9Wo8Da6YG6Ru"
      },
      "source": [
        "from sklearn.model_selection import train_test_split\n",
        "\n",
        "train_texts, test_texts, train_labels, test_labels = train_test_split(\n",
        "    X.values.tolist(), y, test_size= 0.2, random_state=42)"
      ],
      "execution_count": null,
      "outputs": []
    },
    {
      "cell_type": "code",
      "metadata": {
        "colab": {
          "base_uri": "https://localhost:8080/"
        },
        "id": "3WzqrW-l3Wjn",
        "outputId": "427d8abd-9e8d-415a-95e5-313b3c30f8e3"
      },
      "source": [
        "!pip install -U transformers"
      ],
      "execution_count": null,
      "outputs": [
        {
          "output_type": "stream",
          "name": "stdout",
          "text": [
            "Requirement already satisfied: transformers in /usr/local/lib/python3.7/dist-packages (4.9.2)\n",
            "Requirement already satisfied: requests in /usr/local/lib/python3.7/dist-packages (from transformers) (2.23.0)\n",
            "Requirement already satisfied: huggingface-hub==0.0.12 in /usr/local/lib/python3.7/dist-packages (from transformers) (0.0.12)\n",
            "Requirement already satisfied: tokenizers<0.11,>=0.10.1 in /usr/local/lib/python3.7/dist-packages (from transformers) (0.10.3)\n",
            "Requirement already satisfied: sacremoses in /usr/local/lib/python3.7/dist-packages (from transformers) (0.0.45)\n",
            "Requirement already satisfied: filelock in /usr/local/lib/python3.7/dist-packages (from transformers) (3.0.12)\n",
            "Requirement already satisfied: importlib-metadata in /usr/local/lib/python3.7/dist-packages (from transformers) (4.6.4)\n",
            "Requirement already satisfied: numpy>=1.17 in /usr/local/lib/python3.7/dist-packages (from transformers) (1.19.5)\n",
            "Requirement already satisfied: pyyaml>=5.1 in /usr/local/lib/python3.7/dist-packages (from transformers) (5.4.1)\n",
            "Requirement already satisfied: tqdm>=4.27 in /usr/local/lib/python3.7/dist-packages (from transformers) (4.62.0)\n",
            "Requirement already satisfied: packaging in /usr/local/lib/python3.7/dist-packages (from transformers) (21.0)\n",
            "Requirement already satisfied: regex!=2019.12.17 in /usr/local/lib/python3.7/dist-packages (from transformers) (2019.12.20)\n",
            "Requirement already satisfied: typing-extensions in /usr/local/lib/python3.7/dist-packages (from huggingface-hub==0.0.12->transformers) (3.7.4.3)\n",
            "Requirement already satisfied: pyparsing>=2.0.2 in /usr/local/lib/python3.7/dist-packages (from packaging->transformers) (2.4.7)\n",
            "Requirement already satisfied: zipp>=0.5 in /usr/local/lib/python3.7/dist-packages (from importlib-metadata->transformers) (3.5.0)\n",
            "Requirement already satisfied: urllib3!=1.25.0,!=1.25.1,<1.26,>=1.21.1 in /usr/local/lib/python3.7/dist-packages (from requests->transformers) (1.24.3)\n",
            "Requirement already satisfied: chardet<4,>=3.0.2 in /usr/local/lib/python3.7/dist-packages (from requests->transformers) (3.0.4)\n",
            "Requirement already satisfied: idna<3,>=2.5 in /usr/local/lib/python3.7/dist-packages (from requests->transformers) (2.10)\n",
            "Requirement already satisfied: certifi>=2017.4.17 in /usr/local/lib/python3.7/dist-packages (from requests->transformers) (2021.5.30)\n",
            "Requirement already satisfied: click in /usr/local/lib/python3.7/dist-packages (from sacremoses->transformers) (7.1.2)\n",
            "Requirement already satisfied: joblib in /usr/local/lib/python3.7/dist-packages (from sacremoses->transformers) (1.0.1)\n",
            "Requirement already satisfied: six in /usr/local/lib/python3.7/dist-packages (from sacremoses->transformers) (1.15.0)\n"
          ]
        }
      ]
    },
    {
      "cell_type": "code",
      "metadata": {
        "id": "sOxzzL-Q3OBO"
      },
      "source": [
        "from transformers import DistilBertTokenizer\n",
        "tokenizer = DistilBertTokenizer.from_pretrained('distilbert-base-uncased')\n",
        "\n",
        "seq_len = 350\n",
        "\n",
        "train_encodings = tokenizer(train_texts, truncation=True, padding=True, max_length=seq_len)\n",
        "test_encodings = tokenizer(test_texts, truncation=True, padding=True, max_length=seq_len)\n",
        "\n",
        "input_ids_train = np.array(train_encodings['input_ids']) \n",
        "attention_mask_train = np.array(train_encodings['attention_mask'])\n",
        "\n",
        "input_ids_test = np.array(test_encodings['input_ids']) \n",
        "attention_mask_test = np.array(test_encodings['attention_mask'])"
      ],
      "execution_count": null,
      "outputs": []
    },
    {
      "cell_type": "code",
      "metadata": {
        "colab": {
          "base_uri": "https://localhost:8080/"
        },
        "id": "-xxwvIda4QZn",
        "outputId": "2ace5850-c0dc-4544-ffbb-8e9e3df613ec"
      },
      "source": [
        "# Example\n",
        "exp_sen = 1\n",
        "\n",
        "print(\"\\nExample:\\n\")\n",
        "print(\"Sentence:\\n{}\".format(train_texts[exp_sen]))\n",
        "print(\"\\nAfter tokenizing :\\n{}\".format(tokenizer.encode(train_texts[exp_sen])))\n",
        "print(\"\\nAfter padding :\\n{}\".format(input_ids_train[exp_sen]))"
      ],
      "execution_count": null,
      "outputs": [
        {
          "output_type": "stream",
          "name": "stdout",
          "text": [
            "\n",
            "Example:\n",
            "\n",
            "Sentence:\n",
            "no1 boutique hotel london start finish hotel pleasure stay, arrival took lift check desk met friendly warm staff.our room upgraded free charge split level suite ready arrived, pass time afternoon tea lounge place accompanied couple glasses champagne.once ready shown room wow factor possible luxury, room clean plenty space including massive bed ensuite bathroom showers.in lounge bar range complimentary drinks snacks help honesty wanted stronger.all great stay feel home home definately new year celerbrate,  \n",
            "\n",
            "After tokenizing :\n",
            "[101, 2053, 2487, 24611, 3309, 2414, 2707, 3926, 3309, 5165, 2994, 1010, 5508, 2165, 6336, 4638, 4624, 2777, 5379, 4010, 3095, 1012, 2256, 2282, 9725, 2489, 3715, 3975, 2504, 7621, 3201, 3369, 1010, 3413, 2051, 5027, 5572, 11549, 2173, 5642, 3232, 7877, 12327, 1012, 2320, 3201, 3491, 2282, 10166, 5387, 2825, 9542, 1010, 2282, 4550, 7564, 2686, 2164, 5294, 2793, 4372, 28880, 2063, 5723, 23442, 1012, 1999, 11549, 3347, 2846, 19394, 5649, 8974, 27962, 2393, 16718, 2359, 6428, 1012, 2035, 2307, 2994, 2514, 2188, 2188, 13366, 14776, 2135, 2047, 2095, 8292, 3917, 22008, 1010, 102]\n",
            "\n",
            "After padding :\n",
            "[  101  2053  2487 24611  3309  2414  2707  3926  3309  5165  2994  1010\n",
            "  5508  2165  6336  4638  4624  2777  5379  4010  3095  1012  2256  2282\n",
            "  9725  2489  3715  3975  2504  7621  3201  3369  1010  3413  2051  5027\n",
            "  5572 11549  2173  5642  3232  7877 12327  1012  2320  3201  3491  2282\n",
            " 10166  5387  2825  9542  1010  2282  4550  7564  2686  2164  5294  2793\n",
            "  4372 28880  2063  5723 23442  1012  1999 11549  3347  2846 19394  5649\n",
            "  8974 27962  2393 16718  2359  6428  1012  2035  2307  2994  2514  2188\n",
            "  2188 13366 14776  2135  2047  2095  8292  3917 22008  1010   102     0\n",
            "     0     0     0     0     0     0     0     0     0     0     0     0\n",
            "     0     0     0     0     0     0     0     0     0     0     0     0\n",
            "     0     0     0     0     0     0     0     0     0     0     0     0\n",
            "     0     0     0     0     0     0     0     0     0     0     0     0\n",
            "     0     0     0     0     0     0     0     0     0     0     0     0\n",
            "     0     0     0     0     0     0     0     0     0     0     0     0\n",
            "     0     0     0     0     0     0     0     0     0     0     0     0\n",
            "     0     0     0     0     0     0     0     0     0     0     0     0\n",
            "     0     0     0     0     0     0     0     0     0     0     0     0\n",
            "     0     0     0     0     0     0     0     0     0     0     0     0\n",
            "     0     0     0     0     0     0     0     0     0     0     0     0\n",
            "     0     0     0     0     0     0     0     0     0     0     0     0\n",
            "     0     0     0     0     0     0     0     0     0     0     0     0\n",
            "     0     0     0     0     0     0     0     0     0     0     0     0\n",
            "     0     0     0     0     0     0     0     0     0     0     0     0\n",
            "     0     0     0     0     0     0     0     0     0     0     0     0\n",
            "     0     0     0     0     0     0     0     0     0     0     0     0\n",
            "     0     0     0     0     0     0     0     0     0     0     0     0\n",
            "     0     0     0     0     0     0     0     0     0     0     0     0\n",
            "     0     0     0     0     0     0     0     0     0     0     0     0\n",
            "     0     0     0     0     0     0     0     0     0     0     0     0\n",
            "     0     0]\n"
          ]
        }
      ]
    },
    {
      "cell_type": "markdown",
      "metadata": {
        "id": "QijTkZY74cp8"
      },
      "source": [
        "# Creating model"
      ]
    },
    {
      "cell_type": "code",
      "metadata": {
        "id": "MknD8M4A45KG"
      },
      "source": [
        "import tensorflow as tf\n",
        "import tensorflow.keras.layers as L\n",
        "from tensorflow.keras.optimizers import Adam"
      ],
      "execution_count": null,
      "outputs": []
    },
    {
      "cell_type": "code",
      "metadata": {
        "colab": {
          "base_uri": "https://localhost:8080/"
        },
        "id": "5BkIqAlR4WRX",
        "outputId": "69452eb2-1c4e-4272-8eaa-9cd58dfab31d"
      },
      "source": [
        "from transformers import TFDistilBertModel\n",
        "\n",
        "bert = TFDistilBertModel.from_pretrained('distilbert-base-uncased')"
      ],
      "execution_count": null,
      "outputs": [
        {
          "output_type": "stream",
          "name": "stderr",
          "text": [
            "Some layers from the model checkpoint at distilbert-base-uncased were not used when initializing TFDistilBertModel: ['vocab_transform', 'activation_13', 'vocab_projector', 'vocab_layer_norm']\n",
            "- This IS expected if you are initializing TFDistilBertModel from the checkpoint of a model trained on another task or with another architecture (e.g. initializing a BertForSequenceClassification model from a BertForPreTraining model).\n",
            "- This IS NOT expected if you are initializing TFDistilBertModel from the checkpoint of a model that you expect to be exactly identical (initializing a BertForSequenceClassification model from a BertForSequenceClassification model).\n",
            "All the layers of TFDistilBertModel were initialized from the model checkpoint at distilbert-base-uncased.\n",
            "If your task is similar to the task the model of the checkpoint was trained on, you can already use TFDistilBertModel for predictions without further training.\n"
          ]
        }
      ]
    },
    {
      "cell_type": "code",
      "metadata": {
        "colab": {
          "base_uri": "https://localhost:8080/"
        },
        "id": "jzJTUupL4vrh",
        "outputId": "7a9f08ef-1a5d-48c5-d227-14db7baf8327"
      },
      "source": [
        "# Creating bert model\n",
        "inp_ids = L.Input(shape=(seq_len,), dtype=tf.int32) # Shape:(batch_size, seq_len)\n",
        "attention_mask = L.Input(shape=(seq_len,), dtype=tf.int32) # Shape:(batch_size, seq_len)\n",
        "last_hidden_state = bert(inp_ids,attention_mask=attention_mask)[0] # Shape:(batch_size, seq_len, 768)\n",
        "out = last_hidden_state[:,0,:] # Shape:(Batch_size, 768)\n",
        "\n",
        "bert_model = tf.keras.Model(inputs=[inp_ids, attention_mask], outputs=out)\n",
        "\n",
        "# Passing data from bert pretrained model and extracting the final state.\n",
        "\n",
        "print(\"Passing train data\")\n",
        "bert_output_train = bert_model.predict(\n",
        "    [input_ids_train,attention_mask_train], batch_size=16, verbose=1)\n",
        "\n",
        "print(\"Passing test data\")\n",
        "bert_output_test = bert_model.predict(\n",
        "    [input_ids_test,attention_mask_test], batch_size=16, verbose=1)"
      ],
      "execution_count": null,
      "outputs": [
        {
          "output_type": "stream",
          "name": "stdout",
          "text": [
            "WARNING:tensorflow:The parameters `output_attentions`, `output_hidden_states` and `use_cache` cannot be updated when calling a model.They have to be set to True/False in the config object (i.e.: `config=XConfig.from_pretrained('name', output_attentions=True)`).\n",
            "WARNING:tensorflow:AutoGraph could not transform <bound method Socket.send of <zmq.Socket(zmq.PUSH) at 0x7f79afbd4f30>> and will run it as-is.\n",
            "Please report this to the TensorFlow team. When filing the bug, set the verbosity to 10 (on Linux, `export AUTOGRAPH_VERBOSITY=10`) and attach the full output.\n",
            "Cause: module, class, method, function, traceback, frame, or code object was expected, got cython_function_or_method\n",
            "To silence this warning, decorate the function with @tf.autograph.experimental.do_not_convert\n",
            "WARNING: AutoGraph could not transform <bound method Socket.send of <zmq.Socket(zmq.PUSH) at 0x7f79afbd4f30>> and will run it as-is.\n",
            "Please report this to the TensorFlow team. When filing the bug, set the verbosity to 10 (on Linux, `export AUTOGRAPH_VERBOSITY=10`) and attach the full output.\n",
            "Cause: module, class, method, function, traceback, frame, or code object was expected, got cython_function_or_method\n",
            "To silence this warning, decorate the function with @tf.autograph.experimental.do_not_convert\n",
            "WARNING:tensorflow:AutoGraph could not transform <function wrap at 0x7f79cad8c950> and will run it as-is.\n",
            "Cause: while/else statement not yet supported\n",
            "To silence this warning, decorate the function with @tf.autograph.experimental.do_not_convert\n",
            "WARNING: AutoGraph could not transform <function wrap at 0x7f79cad8c950> and will run it as-is.\n",
            "Cause: while/else statement not yet supported\n",
            "To silence this warning, decorate the function with @tf.autograph.experimental.do_not_convert\n",
            "WARNING:tensorflow:The parameter `return_dict` cannot be set in graph mode and will always be set to `True`.\n",
            "Passing train data\n",
            "WARNING:tensorflow:The parameters `output_attentions`, `output_hidden_states` and `use_cache` cannot be updated when calling a model.They have to be set to True/False in the config object (i.e.: `config=XConfig.from_pretrained('name', output_attentions=True)`).\n",
            "WARNING:tensorflow:The parameter `return_dict` cannot be set in graph mode and will always be set to `True`.\n",
            "916/916 [==============================] - 346s 376ms/step\n",
            "Passing test data\n",
            "229/229 [==============================] - 87s 379ms/step\n"
          ]
        }
      ]
    },
    {
      "cell_type": "code",
      "metadata": {
        "colab": {
          "base_uri": "https://localhost:8080/"
        },
        "id": "weGldZIg7Ar4",
        "outputId": "4862fb41-b4fa-41af-d3a5-3d21dfd83675"
      },
      "source": [
        "print(\"Bert output train: {}\".format(bert_output_train.shape))\n",
        "print(\"Bert output test: {}\".format(bert_output_test.shape))"
      ],
      "execution_count": null,
      "outputs": [
        {
          "output_type": "stream",
          "name": "stdout",
          "text": [
            "Bert output train: (14645, 768)\n",
            "Bert output test: (3662, 768)\n"
          ]
        }
      ]
    },
    {
      "cell_type": "code",
      "metadata": {
        "colab": {
          "base_uri": "https://localhost:8080/"
        },
        "id": "Jis3lVfo7byE",
        "outputId": "27e9566c-d5bd-4c42-c274-5832cde54f37"
      },
      "source": [
        "from tensorflow.python.keras.layers.core import Dense\n",
        "import random as rn\n",
        "\n",
        "seed_value = 1337\n",
        "np.random.seed(seed_value)\n",
        "tf.random.set_seed(seed_value)\n",
        "rn.seed(seed_value)\n",
        "\n",
        "model = tf.keras.Sequential([\n",
        "    L.Input(shape=(768)),\n",
        "    L.Dense(128,activation='relu'),\n",
        "    L.Dropout(0.3),\n",
        "    L.Dense(256,activation='relu'),\n",
        "    L.Dense(256,activation='relu'),\n",
        "    L.Dropout(0.3),\n",
        "    L.Dense(512,activation='relu'),\n",
        "    L.Dropout(0.3),\n",
        "    L.Dense(1, activation='relu')\n",
        "])\n",
        "\n",
        "\n",
        "model.compile(loss=tf.keras.losses.BinaryCrossentropy(from_logits=True),\n",
        "              optimizer='adam',metrics=tf.metrics.BinaryAccuracy()\n",
        "             )\n",
        "\n",
        "model.summary()"
      ],
      "execution_count": null,
      "outputs": [
        {
          "output_type": "stream",
          "name": "stdout",
          "text": [
            "Model: \"sequential_2\"\n",
            "_________________________________________________________________\n",
            "Layer (type)                 Output Shape              Param #   \n",
            "=================================================================\n",
            "dense_6 (Dense)              (None, 128)               98432     \n",
            "_________________________________________________________________\n",
            "dropout_23 (Dropout)         (None, 128)               0         \n",
            "_________________________________________________________________\n",
            "dense_7 (Dense)              (None, 256)               33024     \n",
            "_________________________________________________________________\n",
            "dense_8 (Dense)              (None, 256)               65792     \n",
            "_________________________________________________________________\n",
            "dropout_24 (Dropout)         (None, 256)               0         \n",
            "_________________________________________________________________\n",
            "dense_9 (Dense)              (None, 512)               131584    \n",
            "_________________________________________________________________\n",
            "dropout_25 (Dropout)         (None, 512)               0         \n",
            "_________________________________________________________________\n",
            "dense_10 (Dense)             (None, 1)                 513       \n",
            "=================================================================\n",
            "Total params: 329,345\n",
            "Trainable params: 329,345\n",
            "Non-trainable params: 0\n",
            "_________________________________________________________________\n"
          ]
        }
      ]
    },
    {
      "cell_type": "markdown",
      "metadata": {
        "id": "NMb08aToBwe5"
      },
      "source": [
        "## Training model"
      ]
    },
    {
      "cell_type": "code",
      "metadata": {
        "colab": {
          "base_uri": "https://localhost:8080/"
        },
        "id": "Qw6sg3dl8pZm",
        "outputId": "a6c3ead2-31a7-4385-a3e6-000d006fbfed"
      },
      "source": [
        "# Passing bert output for training\n",
        "history = model.fit(\n",
        "    bert_output_train, train_labels, epochs=20, validation_split=0.3, batch_size=32, verbose=1)"
      ],
      "execution_count": null,
      "outputs": [
        {
          "output_type": "stream",
          "name": "stdout",
          "text": [
            "Epoch 1/20\n",
            "321/321 [==============================] - 3s 6ms/step - loss: 0.2688 - binary_accuracy: 0.9003 - val_loss: 0.2476 - val_binary_accuracy: 0.9351\n",
            "Epoch 2/20\n",
            "321/321 [==============================] - 2s 5ms/step - loss: 0.2272 - binary_accuracy: 0.9269 - val_loss: 0.2194 - val_binary_accuracy: 0.9388\n",
            "Epoch 3/20\n",
            "321/321 [==============================] - 2s 5ms/step - loss: 0.2218 - binary_accuracy: 0.9314 - val_loss: 0.2259 - val_binary_accuracy: 0.9224\n",
            "Epoch 4/20\n",
            "321/321 [==============================] - 2s 5ms/step - loss: 0.2209 - binary_accuracy: 0.9278 - val_loss: 0.2203 - val_binary_accuracy: 0.9424\n",
            "Epoch 5/20\n",
            "321/321 [==============================] - 2s 5ms/step - loss: 0.2167 - binary_accuracy: 0.9318 - val_loss: 0.2445 - val_binary_accuracy: 0.8921\n",
            "Epoch 6/20\n",
            "321/321 [==============================] - 2s 5ms/step - loss: 0.2166 - binary_accuracy: 0.9324 - val_loss: 0.2221 - val_binary_accuracy: 0.9290\n",
            "Epoch 7/20\n",
            "321/321 [==============================] - 2s 6ms/step - loss: 0.2169 - binary_accuracy: 0.9336 - val_loss: 0.2243 - val_binary_accuracy: 0.9308\n",
            "Epoch 8/20\n",
            "321/321 [==============================] - 2s 5ms/step - loss: 0.2110 - binary_accuracy: 0.9354 - val_loss: 0.2163 - val_binary_accuracy: 0.9335\n",
            "Epoch 9/20\n",
            "321/321 [==============================] - 2s 6ms/step - loss: 0.2103 - binary_accuracy: 0.9391 - val_loss: 0.2128 - val_binary_accuracy: 0.9461\n",
            "Epoch 10/20\n",
            "321/321 [==============================] - 2s 5ms/step - loss: 0.2122 - binary_accuracy: 0.9355 - val_loss: 0.2138 - val_binary_accuracy: 0.9447\n",
            "Epoch 11/20\n",
            "321/321 [==============================] - 2s 5ms/step - loss: 0.2113 - binary_accuracy: 0.9398 - val_loss: 0.2163 - val_binary_accuracy: 0.9335\n",
            "Epoch 12/20\n",
            "321/321 [==============================] - 2s 5ms/step - loss: 0.2087 - binary_accuracy: 0.9385 - val_loss: 0.2124 - val_binary_accuracy: 0.9445\n",
            "Epoch 13/20\n",
            "321/321 [==============================] - 2s 5ms/step - loss: 0.2080 - binary_accuracy: 0.9414 - val_loss: 0.2127 - val_binary_accuracy: 0.9429\n",
            "Epoch 14/20\n",
            "321/321 [==============================] - 2s 5ms/step - loss: 0.2103 - binary_accuracy: 0.9361 - val_loss: 0.2149 - val_binary_accuracy: 0.9370\n",
            "Epoch 15/20\n",
            "321/321 [==============================] - 2s 5ms/step - loss: 0.2114 - binary_accuracy: 0.9357 - val_loss: 0.2135 - val_binary_accuracy: 0.9438\n",
            "Epoch 16/20\n",
            "321/321 [==============================] - 2s 5ms/step - loss: 0.2069 - binary_accuracy: 0.9373 - val_loss: 0.2096 - val_binary_accuracy: 0.9463\n",
            "Epoch 17/20\n",
            "321/321 [==============================] - 2s 8ms/step - loss: 0.2067 - binary_accuracy: 0.9378 - val_loss: 0.2138 - val_binary_accuracy: 0.9440\n",
            "Epoch 18/20\n",
            "321/321 [==============================] - 2s 5ms/step - loss: 0.2070 - binary_accuracy: 0.9390 - val_loss: 0.2165 - val_binary_accuracy: 0.9363\n",
            "Epoch 19/20\n",
            "321/321 [==============================] - 2s 5ms/step - loss: 0.2051 - binary_accuracy: 0.9397 - val_loss: 0.2115 - val_binary_accuracy: 0.9438\n",
            "Epoch 20/20\n",
            "321/321 [==============================] - 2s 5ms/step - loss: 0.2024 - binary_accuracy: 0.9414 - val_loss: 0.2133 - val_binary_accuracy: 0.9461\n"
          ]
        }
      ]
    },
    {
      "cell_type": "markdown",
      "metadata": {
        "id": "kr-IRv37Bqil"
      },
      "source": [
        "## Training history"
      ]
    },
    {
      "cell_type": "code",
      "metadata": {
        "colab": {
          "base_uri": "https://localhost:8080/",
          "height": 438
        },
        "id": "I6F9pKxdBoHX",
        "outputId": "62ee0004-d825-4fbf-9c54-0425f72291f7"
      },
      "source": [
        "import matplotlib.pyplot as plt\n",
        "\n",
        "history_dict = history.history\n",
        "print(history_dict.keys())\n",
        "\n",
        "acc = history_dict['binary_accuracy']\n",
        "val_acc = history_dict['val_binary_accuracy']\n",
        "loss = history_dict['loss']\n",
        "val_loss = history_dict['val_loss']\n",
        "\n",
        "epochs = range(1, len(acc) + 1)\n",
        "fig = plt.figure(figsize=(10, 6))\n",
        "fig.tight_layout()\n",
        "\n",
        "plt.subplot(2, 1, 1)\n",
        "# \"bo\" is for \"blue dot\"\n",
        "plt.plot(epochs, loss, 'r', label='Training loss')\n",
        "# b is for \"solid blue line\"\n",
        "plt.plot(epochs, val_loss, 'b', label='Validation loss')\n",
        "plt.title('Training and validation loss')\n",
        "# plt.xlabel('Epochs')\n",
        "plt.ylabel('Loss')\n",
        "plt.legend()\n",
        "\n",
        "plt.subplot(2, 1, 2)\n",
        "plt.plot(epochs, acc, 'r', label='Training acc')\n",
        "plt.plot(epochs, val_acc, 'b', label='Validation acc')\n",
        "plt.title('Training and validation accuracy')\n",
        "plt.xlabel('Epochs')\n",
        "plt.ylabel('Accuracy')\n",
        "plt.legend(loc='lower right')"
      ],
      "execution_count": null,
      "outputs": [
        {
          "output_type": "stream",
          "name": "stdout",
          "text": [
            "dict_keys(['loss', 'binary_accuracy', 'val_loss', 'val_binary_accuracy'])\n"
          ]
        },
        {
          "output_type": "execute_result",
          "data": {
            "text/plain": [
              "<matplotlib.legend.Legend at 0x7f78b5259810>"
            ]
          },
          "metadata": {},
          "execution_count": 27
        },
        {
          "output_type": "display_data",
          "data": {
            "image/png": "[encoded data removed]",
            "text/plain": [
              "<Figure size 720x432 with 2 Axes>"
            ]
          },
          "metadata": {
            "needs_background": "light"
          }
        }
      ]
    },
    {
      "cell_type": "markdown",
      "metadata": {
        "id": "2f_3CSt9DkTP"
      },
      "source": [
        "# Evaluate model"
      ]
    },
    {
      "cell_type": "code",
      "metadata": {
        "id": "-U-kyglyDnyP"
      },
      "source": [
        "pred = (model.predict(bert_output_test) > 0.5).astype(\"int32\")"
      ],
      "execution_count": null,
      "outputs": []
    },
    {
      "cell_type": "code",
      "metadata": {
        "id": "KjdSNq_oFHIu"
      },
      "source": [
        "from sklearn.metrics import accuracy_score, f1_score, recall_score, precision_score"
      ],
      "execution_count": null,
      "outputs": []
    },
    {
      "cell_type": "code",
      "metadata": {
        "colab": {
          "base_uri": "https://localhost:8080/"
        },
        "id": "2vKRcULxFMhm",
        "outputId": "da667eae-bbaf-4c56-b74c-bc465aaececf"
      },
      "source": [
        "print('Accuracy: {}'.format(accuracy_score(pred, test_labels)))\n",
        "print('F1 Score: {}'.format(f1_score(pred, test_labels)))\n",
        "print('Recall: {}'.format(recall_score(pred, test_labels)))\n",
        "print('Precision: {}'.format(precision_score(pred, test_labels)))"
      ],
      "execution_count": null,
      "outputs": [
        {
          "output_type": "stream",
          "name": "stdout",
          "text": [
            "Accuracy: 0.9445658110322228\n",
            "F1 Score: 0.9664185277088504\n",
            "Recall: 0.960539296284117\n",
            "Precision: 0.9723701731025299\n"
          ]
        }
      ]
    },
    {
      "cell_type": "markdown",
      "metadata": {
        "id": "Llek4FVlGtoy"
      },
      "source": [
        "# Save model"
      ]
    },
    {
      "cell_type": "code",
      "metadata": {
        "colab": {
          "base_uri": "https://localhost:8080/"
        },
        "id": "wUY2Kb_xGPpy",
        "outputId": "5ed6c3a8-ac10-475c-d0d3-7e63d7a6afa3"
      },
      "source": [
        "dataset_name = 'trip_advisor_hotel_reviews'\n",
        "saved_model_path = '/content/drive/MyDrive/{}_bert'.format(dataset_name)\n",
        "\n",
        "model.save(saved_model_path, include_optimizer=False)"
      ],
      "execution_count": null,
      "outputs": [
        {
          "output_type": "stream",
          "name": "stdout",
          "text": [
            "INFO:tensorflow:Assets written to: /content/drive/MyDrive/trip_advisor_hotel_reviews_bert/assets\n"
          ]
        }
      ]
    }
  ]
}